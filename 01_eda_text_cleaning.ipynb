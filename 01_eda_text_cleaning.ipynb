{
 "cells": [
  {
   "cell_type": "code",
   "execution_count": 1,
   "id": "8e5a1b43",
   "metadata": {},
   "outputs": [
    {
     "name": "stderr",
     "output_type": "stream",
     "text": [
      "[nltk_data] Downloading package stopwords to\n",
      "[nltk_data]     /Users/school/nltk_data...\n",
      "[nltk_data]   Package stopwords is already up-to-date!\n"
     ]
    }
   ],
   "source": [
    "# Imports\n",
    "import pandas as pd\n",
    "import numpy as np\n",
    "import matplotlib.pyplot as plt\n",
    "import seaborn as sns\n",
    "import re\n",
    "import nltk\n",
    "from wordcloud import WordCloud\n",
    "from sklearn.feature_extraction.text import TfidfVectorizer, CountVectorizer\n",
    "\n",
    "\n",
    "# Optional: download nltk stopwords\n",
    "nltk.download('stopwords')\n",
    "from nltk.corpus import stopwords\n",
    "stop_words = set(stopwords.words('english'))"
   ]
  },
  {
   "cell_type": "code",
   "execution_count": 2,
   "id": "94838e16",
   "metadata": {},
   "outputs": [
    {
     "name": "stdout",
     "output_type": "stream",
     "text": [
      "Building a high-quality and scalable state-of-the-art data warehouse that powers all decision making | Leveraging machine learning and algorithms to help Wealthsimple build smarter financial products | Using decision science to understand the cause and effect of our business decisions | Are driven to ship frequently | Take ownership and pride in working on projects to successful completion | Enjoy tackling new, complex challenges on a regular basis | Are comfortable with self-directed learning | Believe that debate, inclusivity and transparency result in better products | Are eager to learn from your team and others. We value making one another successful! | Familiarity with Python, SQL | Basic understanding of statistics: either frequentist and Bayesian approaches | Basic understanding of fundamental machine-learning algorithms: regression and decision trees | First-hand experience working with popular Python libraries such as Pandas, scikt-learn, numpy and Jupyter | Excellent communicator | If you are selected for next steps you will hear back at the end of January and early February | First Interview: 1-hour technical interview (in your language of choice) with one interviewer | Second Interview: 30 minute interview with a hiring manager where you will be walking through a project review | Last Stage: Offer! | Government | Administrative Assistant | Social Worker | Teacher | Part time | Remote | Weekend | Summer | Temporary | Amazon | Air Canada | Care.com | Tim Hortons | Starbucks | Home Depot | Scotiabank | Walmart | Sobey's | BMO Harris Bank | Calgary | Edmonton | Winnipeg | Brampton | Ottawa | Saskatoon | Toronto | Windsor | London | Regina | Browse jobs | Submit a feed | About | Careers | Contact | Privacy | Terms & Conditions | The number of jobs in each salary range for all: | Wealthsimple Toronto NEW Apply for this job Your career is an investment that grows over time! Wealthsimple is on a mission to help everyone achieve financial freedom by reimagining what it means to manage your money. Using smart technology, we take financial services that are often confusing, opaque and expensive and make them transparent and low-cost for everyone. We’re the largest fintech company in Canada, with over 4 million users who trust us with more than $50 billion in assets. Our teams ship often and make an impact with groundbreaking ideas. We're looking for talented people who keep it simple and value collaboration and humility as we continue to create inclusive and high-performing teams where people can be inspired to do their best work. Internships @ Wealthsimple At Wealthsimple, we offer 4 to 8-month internships that are open to co-op and non-co-op students, and recent grads. During your internship, you will have the opportunity to contribute to projects that are changing the landscape of financial services for Canadians. You will be on a team that supports your growth, provides mentorship, and connects you to the broader Wealthsimple community! Our internship program follows a hybrid work model, where you’ll be working from our Toronto headquarters on Wednesdays and Thursdays. This structure offers the flexibility of remote work, while also providing the collaboration, connection, and mentorship that come from being together in person. Eligibility Currently enrolled as a student at a Canadian post-secondary institution or technical bootcamp New graduates - Within 6 months of your graduation date Available to work full-time hours Residing in Canada Able to commute to our Toronto HQ on Wednesdays and Thursdays Data Science @ Wealthsimple The Data Science & Engineering (DSE) team consists of data scientists and software engineers with diverse educational backgrounds such as math, operations research, economics, computer science, engineering and business. The team is responsible for enabling data-driven decision-making and building data products at Wealthsimple. We achieve these goals by: Building a high-quality and scalable state-of-the-art data warehouse that powers all decision making Leveraging machine learning and algorithms to help Wealthsimple build smarter financial products Using decision science to understand the cause and effect of our business decisions Application deadline: Wednesday, May 28th @ 5PM EST We're looking for people who: Are driven to ship frequently Take ownership and pride in working on projects to successful completion Enjoy tackling new, complex challenges on a regular basis Are comfortable with self-directed learning Believe that debate, inclusivity and transparency result in better products Are eager to learn from your team and others. We value making one another successful! Things you should know about our tech before applying: Familiarity with Python, SQL Basic understanding of statistics: either frequentist and Bayesian approaches Basic understanding of fundamental machine-learning algorithms: regression and decision trees First-hand experience working with popular Python libraries such as Pandas, scikt-learn, numpy and Jupyter Excellent communicator What You Can Expect From The Interview Process If you are selected for next steps you will hear back at the end of January and early February First Interview: 1-hour technical interview (in your language of choice) with one interviewer Second Interview: 30 minute interview with a hiring manager where you will be walking through a project review Last Stage: Offer! Why Wealthsimple? Competitive salary with retirement savings matching plan using Wealthsimple for Business Generous vacation days and unlimited sick and mental health days Intern programming including educational workshops, hackathons, and mentorship A wide variety of peer and company-led Employee Resource Groups (ie. Rainbow, Women of Wealthsimple, Black @ WS) Company-wide wellness days off scheduled throughout the year What past interns have said about their experience at Wealthsimple: \"I absolutely loved the term here and had a great chance to learn new things and meet many amazingly talented people! I also really appreciated the mentorship program, having someone who was an alumni from my school+program was a great chance to learn more and help plan my career and academic journey!\" \"A lot of autonomy and trust from teammates; In-person office experience allowed for a lot of deeper friendships; I genuinely like the Wealthsimple product which made it very exciting to work on it\" \"The other interns were really a highlight as well as all of the things that y'all planned for us. I also would say my own team really made me feel at home and welcomed. I love the codebase and engineering tools a lot and will miss it!\" With over 1,000 employees coast to coast in North America, be a part of our Canadian success story and help shape the financial future of millions — join us! Read our Culture Manual and learn more about how we work. Technology & Innovation at Wealthsimple We believe the future belongs to those who innovate boldly. At Wealthsimple, every team member is expected to lean into new technologies, including AI and tooling, to rethink how we work, solve problems faster, and create even greater value. We're looking for people who are not just comfortable with change but energized by it. Our commitment is to build a company that evolves at the pace of the world around us, and we want you to help lead that future. DEI Statement At Wealthsimple, we are building products for a diverse world and we need a diverse team to do that successfully. We strongly encourage applications from everyone regardless of race, religion, colour, national origin, gender, sexual orientation, age, marital status, or disability status. Accessibility Statement Wealthsimple provides an accessible candidate experience. If you need any accommodations or adjustments throughout the interview process and beyond, please let us know, and we will work with you to provide the necessary support and make reasonable accommodations to facilitate your participation. We are continuously working to improve our accessibility practices and welcome any feedback or suggestions on how we can better accommodate candidates with accessibility needs. Apply for this job Stats for this job Salaries The number of jobs in each salary range for all: Receive similar jobs by email Create alert By creating an alert, you agree to our T&Cs and Privacy Notice , and Cookie Use. Similar jobs Intern, Data Scientist (Fall 2025) Capital One Toronto, Ontario Intern, Data Analytics Engineering - Fall 2025 Capital One Toronto, Ontario Software Intern Fall 2025 Rocket Lab USA Toronto, Ontario, Canada Marketing Intern (Fall, 2025) OneVest Toronto Commercial Analytics Intern Fall 2025 EQ Bank | Equitable Bank Toronto, Ontario, C6A | Your career is an investment that grows over time! Wealthsimple is on a mission to help everyone achieve financial freedom by reimagining what it means to manage your money. Using smart technology, we take financial services that are often confusing, opaque and expensive and make them transparent and low-cost for everyone. We’re the largest fintech company in Canada, with over 4 million users who trust us with more than $50 billion in assets. Our teams ship often and make an impact with groundbreaking ideas. We're looking for talented people who keep it simple and value collaboration and humility as we continue to create inclusive and high-performing teams where people can be inspired to do their best work. Internships @ Wealthsimple At Wealthsimple, we offer 4 to 8-month internships that are open to co-op and non-co-op students, and recent grads. During your internship, you will have the opportunity to contribute to projects that are changing the landscape of financial services for Canadians. You will be on a team that supports your growth, provides mentorship, and connects you to the broader Wealthsimple community! Our internship program follows a hybrid work model, where you’ll be working from our Toronto headquarters on Wednesdays and Thursdays. This structure offers the flexibility of remote work, while also providing the collaboration, connection, and mentorship that come from being together in person. Eligibility Currently enrolled as a student at a Canadian post-secondary institution or technical bootcamp New graduates - Within 6 months of your graduation date Available to work full-time hours Residing in Canada Able to commute to our Toronto HQ on Wednesdays and Thursdays Data Science @ Wealthsimple The Data Science & Engineering (DSE) team consists of data scientists and software engineers with diverse educational backgrounds such as math, operations research, economics, computer science, engineering and business. The team is responsible for enabling data-driven decision-making and building data products at Wealthsimple. We achieve these goals by: Building a high-quality and scalable state-of-the-art data warehouse that powers all decision making Leveraging machine learning and algorithms to help Wealthsimple build smarter financial products Using decision science to understand the cause and effect of our business decisions Application deadline: Wednesday, May 28th @ 5PM EST We're looking for people who: Are driven to ship frequently Take ownership and pride in working on projects to successful completion Enjoy tackling new, complex challenges on a regular basis Are comfortable with self-directed learning Believe that debate, inclusivity and transparency result in better products Are eager to learn from your team and others. We value making one another successful! Things you should know about our tech before applying: Familiarity with Python, SQL Basic understanding of statistics: either frequentist and Bayesian approaches Basic understanding of fundamental machine-learning algorithms: regression and decision trees First-hand experience working with popular Python libraries such as Pandas, scikt-learn, numpy and Jupyter Excellent communicator What You Can Expect From The Interview Process If you are selected for next steps you will hear back at the end of January and early February First Interview: 1-hour technical interview (in your language of choice) with one interviewer Second Interview: 30 minute interview with a hiring manager where you will be walking through a project review Last Stage: Offer! Why Wealthsimple? Competitive salary with retirement savings matching plan using Wealthsimple for Business Generous vacation days and unlimited sick and mental health days Intern programming including educational workshops, hackathons, and mentorship A wide variety of peer and company-led Employee Resource Groups (ie. Rainbow, Women of Wealthsimple, Black @ WS) Company-wide wellness days off scheduled throughout the year What past interns have said about their experience at Wealthsimple: \"I absolutely loved the term here and had a great chance to learn new things and meet many amazingly talented people! I also really appreciated the mentorship program, having someone who was an alumni from my school+program was a great chance to learn more and help plan my career and academic journey!\" \"A lot of autonomy and trust from teammates; In-person office experience allowed for a lot of deeper friendships; I genuinely like the Wealthsimple product which made it very exciting to work on it\" \"The other interns were really a highlight as well as all of the things that y'all planned for us. I also would say my own team really made me feel at home and welcomed. I love the codebase and engineering tools a lot and will miss it!\" With over 1,000 employees coast to coast in North America, be a part of our Canadian success story and help shape the financial future of millions — join us! Read our Culture Manual and learn more about how we work. Technology & Innovation at Wealthsimple We believe the future belongs to those who innovate boldly. At Wealthsimple, every team member is expected to lean into new technologies, including AI and tooling, to rethink how we work, solve problems faster, and create even greater value. We're looking for people who are not just comfortable with change but energized by it. Our commitment is to build a company that evolves at the pace of the world around us, and we want you to help lead that future. DEI Statement At Wealthsimple, we are building products for a diverse world and we need a diverse team to do that successfully. We strongly encourage applications from everyone regardless of race, religion, colour, national origin, gender, sexual orientation, age, marital status, or disability status. Accessibility Statement Wealthsimple provides an accessible candidate experience. If you need any accommodations or adjustments throughout the interview process and beyond, please let us know, and we will work with you to provide the necessary support and make reasonable accommodations to facilitate your participation. We are continuously working to improve our accessibility practices and welcome any feedback or suggestions on how we can better accommodate candidates with accessibility needs.\n"
     ]
    }
   ],
   "source": [
    "# Display full width of text in each column\n",
    "pd.set_option('display.max_colwidth', None)\n",
    "\n",
    "# Optional: display more columns and rows\n",
    "pd.set_option('display.max_columns', None)\n",
    "pd.set_option('display.width', 2000)  # Widen total printed width\n",
    "\n",
    "# 📂 2. Load data\n",
    "df = pd.read_csv(\"responsibilities.csv\")  # Or wherever you saved your file\n",
    "print(df.loc[0, 'responsibilities'])  # first row\n",
    "example = df.loc[0, 'responsibilities']\n",
    "\n",
    "# Drop rows where 'responsibilities' is NaN or an empty string after stripping whitespace\n",
    "df = df[~df['responsibilities'].isna()]                 # removes NaN\n",
    "df = df[df['responsibilities'].str.strip() != '']      # removes empty strings or strings with only whitespace\n",
    "\n",
    "# we only care about these following titles\n",
    "# Sample predefined keywords\n",
    "keywords = ['Data Scientist', 'Analyst', 'Engineer', 'Data']\n",
    "# Keep rows where 'title' contains any of the keywords (case-insensitive)\n",
    "df = df[df['title'].str.contains('|'.join(keywords), case=False, na=False)]\n"
   ]
  },
  {
   "cell_type": "code",
   "execution_count": 4,
   "id": "d6740f16",
   "metadata": {},
   "outputs": [],
   "source": [
    "# i notice there are words that I should remove\n",
    "\n",
    "def parse_job_keywords(text):\n",
    "    return [item.strip() for item in text.split('|')]\n",
    "#text = \"Python | SQL | machine learning | data analysis\"\n",
    "# ['Python', 'SQL', 'machine learning', 'data analysis']\n",
    "# Example usage\n",
    "input_text = \"\"\"Government | Administrative Assistant | Social Worker | Teacher | Part time | Remote | Weekend | Summer | Temporary | Amazon | Air Canada | Care.com | Tim Hortons | Starbucks | Home Depot | Scotiabank | Walmart | Sobey's | BMO Harris Bank | Calgary | Edmonton | Winnipeg | Brampton | Ottawa | Saskatoon | Toronto | Windsor | London | Regina | Browse jobs | Submit a feed | About | Careers | Contact | Privacy | Terms & Conditions\"\"\"\n",
    "\n",
    "lst_of_unimportant_words = parse_job_keywords(input_text)"
   ]
  },
  {
   "cell_type": "code",
   "execution_count": 81,
   "id": "9a8a9a97",
   "metadata": {},
   "outputs": [
    {
     "name": "stdout",
     "output_type": "stream",
     "text": [
      "6    AI Factory - Versatile Teams Operating in Cross Functional Pods:Utilizing digital and data resources to develop AI products, bringing data management, AI and product development skills to products, programs and projects to create an agile, fulfilling and meaningful work environment. | Leading Edge Tech Stack:Experience building products that will be deployed globally on a leading-edge tech stack. | World Class Mentorship and Training:Working with renowned leaders and academics in machine learning to further develop your skillsets | Propose and establish technical designs to meet business and technical requirements | Develop and maintain data engineering solutions based on requirements and design specifications using appropriate tools and technologies | Create data pipelines / ETL pipelines and optimize performance | Test and validate developed solution to ensure it meets requirements | Create design and development documentation based on standards for knowledge transfer, training, and maintenance | Work with business and products teams to understand requirements, and translate them into technical needs | Adhere to and promote to best practices and standards for code management, automated testing, and deployments | Leverage existing or create new standard data pipelines within Sanofi to bring value through business use cases | Develop automated tests for CI/CD pipelines | Gather/organize large & complex data assets, and perform relevant analysis | Conduct peer reviews for quality, consistency, and rigor for production level solution | Actively contribute to Data Engineering community and define leading practices and frameworks | Communicate results and findings in a clear, structured manner to stakeholders | Remains up to date on the company’s standards, industry practices and emerging technologies | Experience working cross-functional teams to solve complex data architecture and engineering problems | Demonstrated ability to learn new data and software engineering technologies in short amount of time | Good understanding of agile/scrum development processes and concepts | Able to work in a fast-paced, constantly evolving environment and manage multiple priorities | Strong technical analysis and problem-solving skills related to data and technology solutions | Excellent written, verbal, and interpersonal skills with ability to communicate ideas, concepts and solutions to peers and leaders | Pragmatic and capable of solving complex issues, with technical intuition and attention to detail | Service-oriented, flexible, and approachable team player | Fluent in English (Other languages a plus) | Bachelor’s Degree or equivalent in Computer Science, Engineering, or relevant field | 4 to 5+ years of experience in data engineering, integration, data warehousing, business intelligence, business analytics, or comparable role with relevant technologies and tools, such as Spark/Scala, Informatica/IICS/Dbt | Understanding of data structures and algorithms | Working knowledge of scripting languages (Python, Shell scripting) | Experience in cloud-based data platforms (Snowflake is a plus) | Experience with job scheduling and orchestration (Airflow is a plus) | Good knowledge of SQL and relational databases technologies/concepts | Experience working with data models and query tuning | Experience working in life sciences/pharmaceutical industry is a plus | Familiarity with data ingestion through batch, near real-time, and streaming environments | Familiarity with data warehouse concepts and architectures (data mesh a plus) | Familiarity with Source Code Management Tools (GitHub a plus) | Bring the miracles of science to life alongside a supportive, future-focused team. | Discover endless opportunities to grow your talent and drive your career, whether it’s through a promotion or lateral move, at home or internationally. | Enjoy a thoughtful, well-crafted rewards package that recognizes your contribution and amplifies your impact. | Take good care of yourself and your family, with a wide range of health and wellbeing benefits including high-quality healthcare, prevention and wellness programs | Government | Administrative Assistant | Social Worker | Teacher | Part time | Remote | Weekend | Summer | Temporary | Amazon | Air Canada | Care.com | Tim Hortons | Starbucks | Home Depot | Scotiabank | Walmart | Sobey's | BMO Harris Bank | Calgary | Edmonton | Winnipeg | Brampton | Ottawa | Saskatoon | Toronto | Windsor | London | Regina | Browse jobs | Submit a feed | About | Careers | Contact | Privacy | Terms & Conditions | Reference No.\\nR2796167 | Position Title:\\nData Engineer | Department:\\nData Engineering | Location:\\nToronto, ON | Our Hubs are a crucial part of how we innovate, improving performance across every Sanofi department and providing a springboard for the amazing work we do. Build a career and you can be part of transforming our business while helping to change millions of lives. | Sanofi has recently embarked into a vast and ambitious digital transformation program. A cornerstone of this roadmap is the acceleration of its data transformation and of the adoption of artificial intelligence (AI) and machine learning (ML) solutions that will accelerate Manufacturing & Supply performance and help bring drugs and vaccines to patients faster, to improve health and save lives. | You are a dynamic Data Engineer interested in challenging the status quo to design and develop globally scalable solutions that are needed by Sanofi’s advanced analytic, AI and ML initiatives for the betterment of our global patients and customers. You are a valued influencer and leader who has contributed to making key datasets available to data scientists, analysts, and consumers throughout the enterprise to meet vital business use needs. You have a keen eye for improvement opportunities while continuing to fully comply with all data quality, security, and governance standards. | Our vision for digital, data analytics and AI | Join us on our journey in enabling Sanofi’s Digital Transformation through becoming an AI first organization. This means: | AI Factory - Versatile Teams Operating in Cross Functional Pods:\\nUtilizing digital and data resources to develop AI products, bringing data management, AI and product development skills to products, programs and projects to create an agile, fulfilling and meaningful work environment. | Leading Edge Tech Stack:\\nExperience building products that will be deployed globally on a leading-edge tech stack. | World Class Mentorship and Training:\\nWorking with renowned leaders and academics in machine learning to further develop your skillsets | Main Responsibilities: | Propose and establish technical designs to meet business and technical requirements | Develop and maintain data engineering solutions based on requirements and design specifications using appropriate tools and technologies | Create data pipelines / ETL pipelines and optimize performance | Test and validate developed solution to ensure it meets requirements | Create design and development documentation based on standards for knowledge transfer, training, and maintenance | Work with business and products teams to understand requirements, and translate them into technical needs | Adhere to and promote to best practices and standards for code management, automated testing, and deployments | Leverage existing or create new standard data pipelines within Sanofi to bring value through business use cases | Develop automated tests for CI/CD pipelines | Gather/organize large & complex data assets, and perform relevant analysis | Conduct peer reviews for quality, consistency, and rigor for production level solution | Actively contribute to Data Engineering community and define leading practices and frameworks | Communicate results and findings in a clear, structured manner to stakeholders | Remains up to date on the company’s standards, industry practices and emerging technologies | Key Functional Requirements & Qualifications: | Experience working cross-functional teams to solve complex data architecture and engineering problems | Demonstrated ability to learn new data and software engineering technologies in short amount of time | Good understanding of agile/scrum development processes and concepts | Able to work in a fast-paced, constantly evolving environment and manage multiple priorities | Strong technical analysis and problem-solving skills related to data and technology solutions | Excellent written, verbal, and interpersonal skills with ability to communicate ideas, concepts and solutions to peers and leaders | Pragmatic and capable of solving complex issues, with technical intuition and attention to detail | Service-oriented, flexible, and approachable team player | Fluent in English (Other languages a plus) | Key Technical Requirements & Qualifications: | Bachelor’s Degree or equivalent in Computer Science, Engineering, or relevant field | 4 to 5+ years of experience in data engineering, integration, data warehousing, business intelligence, business analytics, or comparable role with relevant technologies and tools, such as Spark/Scala, Informatica/IICS/Dbt | Understanding of data structures and algorithms | Working knowledge of scripting languages (Python, Shell scripting) | Experience in cloud-based data platforms (Snowflake is a plus) | Experience with job scheduling and orchestration (Airflow is a plus) | Good knowledge of SQL and relational databases technologies/concepts | Experience working with data models and query tuning | Experience working in life sciences/pharmaceutical industry is a plus | Familiarity with data ingestion through batch, near real-time, and streaming environments | Familiarity with data warehouse concepts and architectures (data mesh a plus) | Familiarity with Source Code Management Tools (GitHub a plus) | Bring the miracles of science to life alongside a supportive, future-focused team. | Discover endless opportunities to grow your talent and drive your career, whether it’s through a promotion or lateral move, at home or internationally. | Enjoy a thoughtful, well-crafted rewards package that recognizes your contribution and amplifies your impact. | Take good care of yourself and your family, with a wide range of health and wellbeing benefits including high-quality healthcare, prevention and wellness programs | This position is for a new vacant role that is now open for applications. | Sanofi is an equal opportunity employer committed to diversity and inclusion. Our goal is to attract, develop and retain highly talented employees from diverse backgrounds, allowing us to benefit from a wide variety of experiences and perspectives. We welcome and encourage applications from all qualified applicants. Accommodations for persons with disabilities required during the recruitment process are available upon request. | Better is out there. Better medications, better outcomes, better science. But progress doesn’t happen without people – people from different backgrounds, in different locations, doing different roles, all united by one thing: a desire to make miracles happen. So, let’s be those people. | At Sanofi, we provide equal opportunities to all regardless of race, colour, ancestry, religion, sex, national origin, sexual orientation, age, citizenship, marital status, ability or gender identity. | Watch our ALL IN video and check out our Diversity Equity and Inclusion actions at sanofi.com! | North America Applicants Only | The salary range for this position is: | All compensation will be determined commensurate with demonstrated experience. Employees may be eligible to participate in Company employee benefit programs. Additional benefits information can be found through the LINK. | La fourchette salariale pour ce poste est la suivante: | Toute compensation sera déterminée en fonction de l'expérience démontrée. Les employés peuvent être admissibles à participer aux programmes d'avantages sociau de l'enterprise. Des informations supplémentaires sur les avantages sont disponibles via le lien. | The number of jobs in each salary range for all: | Sanofi Pasteur Limited Toronto, Ontario $94,700.00 - $136,766.66 Full time NEW Apply for this job Reference No. R2796167 Position Title: Data Engineer Department: Data Engineering Location: Toronto, ON About the Job Our Hubs are a crucial part of how we innovate, improving performance across every Sanofi department and providing a springboard for the amazing work we do. Build a career and you can be part of transforming our business while helping to change millions of lives. Sanofi has recently embarked into a vast and ambitious digital transformation program. A cornerstone of this roadmap is the acceleration of its data transformation and of the adoption of artificial intelligence (AI) and machine learning (ML) solutions that will accelerate Manufacturing & Supply performance and help bring drugs and vaccines to patients faster, to improve health and save lives. You are a dynamic Data Engineer interested in challenging the status quo to design and develop globally scalable solutions that are needed by Sanofi’s advanced analytic, AI and ML initiatives for the betterment of our global patients and customers. You are a valued influencer and leader who has contributed to making key datasets available to data scientists, analysts, and consumers throughout the enterprise to meet vital business use needs. You have a keen eye for improvement opportunities while continuing to fully comply with all data quality, security, and governance standards. Our vision for digital, data analytics and AI Join us on our journey in enabling Sanofi’s Digital Transformation through becoming an AI first organization. This means: AI Factory - Versatile Teams Operating in Cross Functional Pods: Utilizing digital and data resources to develop AI products, bringing data management, AI and product development skills to products, programs and projects to create an agile, fulfilling and meaningful work environment. Leading Edge Tech Stack: Experience building products that will be deployed globally on a leading-edge tech stack. World Class Mentorship and Training: Working with renowned leaders and academics in machine learning to further develop your skillsets Main Responsibilities: Propose and establish technical designs to meet business and technical requirements Develop and maintain data engineering solutions based on requirements and design specifications using appropriate tools and technologies Create data pipelines / ETL pipelines and optimize performance Test and validate developed solution to ensure it meets requirements Create design and development documentation based on standards for knowledge transfer, training, and maintenance Work with business and products teams to understand requirements, and translate them into technical needs Adhere to and promote to best practices and standards for code management, automated testing, and deployments Leverage existing or create new standard data pipelines within Sanofi to bring value through business use cases Develop automated tests for CI/CD pipelines Gather/organize large & complex data assets, and perform relevant analysis Conduct peer reviews for quality, consistency, and rigor for production level solution Actively contribute to Data Engineering community and define leading practices and frameworks Communicate results and findings in a clear, structured manner to stakeholders Remains up to date on the company’s standards, industry practices and emerging technologies About You Key Functional Requirements & Qualifications: Experience working cross-functional teams to solve complex data architecture and engineering problems Demonstrated ability to learn new data and software engineering technologies in short amount of time Good understanding of agile/scrum development processes and concepts Able to work in a fast-paced, constantly evolving environment and manage multiple priorities Strong technical analysis and problem-solving skills related to data and technology solutions Excellent written, verbal, and interpersonal skills with ability to communicate ideas, concepts and solutions to peers and leaders Pragmatic and capable of solving complex issues, with technical intuition and attention to detail Service-oriented, flexible, and approachable team player Fluent in English (Other languages a plus) Key Technical Requirements & Qualifications: Bachelor’s Degree or equivalent in Computer Science, Engineering, or relevant field 4 to 5+ years of experience in data engineering, integration, data warehousing, business intelligence, business analytics, or comparable role with relevant technologies and tools, such as Spark/Scala, Informatica/IICS/Dbt Understanding of data structures and algorithms Working knowledge of scripting languages (Python, Shell scripting) Experience in cloud-based data platforms (Snowflake is a plus) Experience with job scheduling and orchestration (Airflow is a plus) Good knowledge of SQL and relational databases technologies/concepts Experience working with data models and query tuning Nice to haves: Experience working in life sciences/pharmaceutical industry is a plus Familiarity with data ingestion through batch, near real-time, and streaming environments Familiarity with data warehouse concepts and architectures (data mesh a plus) Familiarity with Source Code Management Tools (GitHub a plus) Why Choose Us? Bring the miracles of science to life alongside a supportive, future-focused team. Discover endless opportunities to grow your talent and drive your career, whether it’s through a promotion or lateral move, at home or internationally. Enjoy a thoughtful, well-crafted rewards package that recognizes your contribution and amplifies your impact. Take good care of yourself and your family, with a wide range of health and wellbeing benefits including high-quality healthcare, prevention and wellness programs This position is for a new vacant role that is now open for applications. Sanofi is an equal opportunity employer committed to diversity and inclusion. Our goal is to attract, develop and retain highly talented employees from diverse backgrounds, allowing us to benefit from a wide variety of experiences and perspectives. We welcome and encourage applications from all qualified applicants. Accommodations for persons with disabilities required during the recruitment process are available upon request. #GD-SP ​ #LI-SP #LI-Hybrid Pursue progress , discover extraordinary Better is out there. Better medications, better outcomes, better science. But progress doesn’t happen without people – people from different backgrounds, in different locations, doing different roles, all united by one thing: a desire to make miracles happen. So, let’s be those people. At Sanofi, we provide equal opportunities to all regardless of race, colour, ancestry, religion, sex, national origin, sexual orientation, age, citizenship, marital status, ability or gender identity. Watch our ALL IN video and check out our Diversity Equity and Inclusion actions at sanofi.com! North America Applicants Only The salary range for this position is: $94,700.00 - $136,766.66 All compensation will be determined commensurate with demonstrated experience. Employees may be eligible to participate in Company employee benefit programs. Additional benefits information can be found through the LINK. La fourchette salariale pour ce poste est la suivante: $94,700.00 - $136,766.66 Toute compensation sera déterminée en fonction de l'expérience démontrée. Les employés peuvent être admissibles à participer aux programmes d'avantages sociau de l'enterprise. Des informations supplémentaires sur les avantages sont disponibles via le lien. Apply for this job Stats for this job Salary comparison: This job National average IT Jobs average Ontario average Salaries The number of jobs in each salary range for all: Receive similar jobs by email Create alert By creating an alert, you agree to our T&Cs and Privacy Notice , and Cookie Use. Similar jobs Data Engineer Definity Toronto, Ontario Data Engineer Mewar Info Tech Limited Toronto, Ontario, C6A Data Engineer Hays Greater Toronto Area, Canada Data Engineer Iris Software Inc. Toronto, Ontario, C6A Data Engineer Eviden Toronto, Ontario, C6A | Reference No. R2796167 Position Title: Data Engineer Department: Data Engineering Location: Toronto, ON About the Job Our Hubs are a crucial part of how we innovate, improving performance across every Sanofi department and providing a springboard for the amazing work we do. Build a career and you can be part of transforming our business while helping to change millions of lives. Sanofi has recently embarked into a vast and ambitious digital transformation program. A cornerstone of this roadmap is the acceleration of its data transformation and of the adoption of artificial intelligence (AI) and machine learning (ML) solutions that will accelerate Manufacturing & Supply performance and help bring drugs and vaccines to patients faster, to improve health and save lives. You are a dynamic Data Engineer interested in challenging the status quo to design and develop globally scalable solutions that are needed by Sanofi’s advanced analytic, AI and ML initiatives for the betterment of our global patients and customers. You are a valued influencer and leader who has contributed to making key datasets available to data scientists, analysts, and consumers throughout the enterprise to meet vital business use needs. You have a keen eye for improvement opportunities while continuing to fully comply with all data quality, security, and governance standards. Our vision for digital, data analytics and AI Join us on our journey in enabling Sanofi’s Digital Transformation through becoming an AI first organization. This means: AI Factory - Versatile Teams Operating in Cross Functional Pods: Utilizing digital and data resources to develop AI products, bringing data management, AI and product development skills to products, programs and projects to create an agile, fulfilling and meaningful work environment. Leading Edge Tech Stack: Experience building products that will be deployed globally on a leading-edge tech stack. World Class Mentorship and Training: Working with renowned leaders and academics in machine learning to further develop your skillsets Main Responsibilities: Propose and establish technical designs to meet business and technical requirements Develop and maintain data engineering solutions based on requirements and design specifications using appropriate tools and technologies Create data pipelines / ETL pipelines and optimize performance Test and validate developed solution to ensure it meets requirements Create design and development documentation based on standards for knowledge transfer, training, and maintenance Work with business and products teams to understand requirements, and translate them into technical needs Adhere to and promote to best practices and standards for code management, automated testing, and deployments Leverage existing or create new standard data pipelines within Sanofi to bring value through business use cases Develop automated tests for CI/CD pipelines Gather/organize large & complex data assets, and perform relevant analysis Conduct peer reviews for quality, consistency, and rigor for production level solution Actively contribute to Data Engineering community and define leading practices and frameworks Communicate results and findings in a clear, structured manner to stakeholders Remains up to date on the company’s standards, industry practices and emerging technologies About You Key Functional Requirements & Qualifications: Experience working cross-functional teams to solve complex data architecture and engineering problems Demonstrated ability to learn new data and software engineering technologies in short amount of time Good understanding of agile/scrum development processes and concepts Able to work in a fast-paced, constantly evolving environment and manage multiple priorities Strong technical analysis and problem-solving skills related to data and technology solutions Excellent written, verbal, and interpersonal skills with ability to communicate ideas, concepts and solutions to peers and leaders Pragmatic and capable of solving complex issues, with technical intuition and attention to detail Service-oriented, flexible, and approachable team player Fluent in English (Other languages a plus) Key Technical Requirements & Qualifications: Bachelor’s Degree or equivalent in Computer Science, Engineering, or relevant field 4 to 5+ years of experience in data engineering, integration, data warehousing, business intelligence, business analytics, or comparable role with relevant technologies and tools, such as Spark/Scala, Informatica/IICS/Dbt Understanding of data structures and algorithms Working knowledge of scripting languages (Python, Shell scripting) Experience in cloud-based data platforms (Snowflake is a plus) Experience with job scheduling and orchestration (Airflow is a plus) Good knowledge of SQL and relational databases technologies/concepts Experience working with data models and query tuning Nice to haves: Experience working in life sciences/pharmaceutical industry is a plus Familiarity with data ingestion through batch, near real-time, and streaming environments Familiarity with data warehouse concepts and architectures (data mesh a plus) Familiarity with Source Code Management Tools (GitHub a plus) Why Choose Us? Bring the miracles of science to life alongside a supportive, future-focused team. Discover endless opportunities to grow your talent and drive your career, whether it’s through a promotion or lateral move, at home or internationally. Enjoy a thoughtful, well-crafted rewards package that recognizes your contribution and amplifies your impact. Take good care of yourself and your family, with a wide range of health and wellbeing benefits including high-quality healthcare, prevention and wellness programs This position is for a new vacant role that is now open for applications. Sanofi is an equal opportunity employer committed to diversity and inclusion. Our goal is to attract, develop and retain highly talented employees from diverse backgrounds, allowing us to benefit from a wide variety of experiences and perspectives. We welcome and encourage applications from all qualified applicants. Accommodations for persons with disabilities required during the recruitment process are available upon request. #GD-SP ​ #LI-SP #LI-Hybrid Pursue progress , discover extraordinary Better is out there. Better medications, better outcomes, better science. But progress doesn’t happen without people – people from different backgrounds, in different locations, doing different roles, all united by one thing: a desire to make miracles happen. So, let’s be those people. At Sanofi, we provide equal opportunities to all regardless of race, colour, ancestry, religion, sex, national origin, sexual orientation, age, citizenship, marital status, ability or gender identity. Watch our ALL IN video and check out our Diversity Equity and Inclusion actions at sanofi.com! North America Applicants Only The salary range for this position is: $94,700.00 - $136,766.66 All compensation will be determined commensurate with demonstrated experience. Employees may be eligible to participate in Company employee benefit programs. Additional benefits information can be found through the LINK. La fourchette salariale pour ce poste est la suivante: $94,700.00 - $136,766.66 Toute compensation sera déterminée en fonction de l'expérience démontrée. Les employés peuvent être admissibles à participer aux programmes d'avantages sociau de l'enterprise. Des informations supplémentaires sur les avantages sont disponibles via le lien.\n",
      "Name: responsibilities, dtype: object\n"
     ]
    }
   ],
   "source": [
    "example = df[4:5][\"responsibilities\"]\n",
    "print(example)"
   ]
  },
  {
   "cell_type": "markdown",
   "id": "676dcc14",
   "metadata": {},
   "source": [
    "# lemmatize, lower case, deduplicate repeating rows,Split on pipe symbol"
   ]
  },
  {
   "cell_type": "code",
   "execution_count": 5,
   "id": "c646fb0b",
   "metadata": {},
   "outputs": [
    {
     "name": "stderr",
     "output_type": "stream",
     "text": [
      "[nltk_data] Downloading package punkt to /Users/school/nltk_data...\n",
      "[nltk_data]   Package punkt is already up-to-date!\n",
      "[nltk_data] Downloading package stopwords to\n",
      "[nltk_data]     /Users/school/nltk_data...\n",
      "[nltk_data]   Package stopwords is already up-to-date!\n",
      "[nltk_data] Downloading package wordnet to /Users/school/nltk_data...\n",
      "[nltk_data]   Package wordnet is already up-to-date!\n"
     ]
    }
   ],
   "source": [
    "import nltk\n",
    "from nltk.tokenize import sent_tokenize, word_tokenize\n",
    "# Splits text into sentences and Splits sentences into words resp\n",
    "from nltk.corpus import stopwords\n",
    "from nltk.stem import WordNetLemmatizer\n",
    "from sklearn.feature_extraction.text import TfidfVectorizer #Converts text into numerical vectors using TF-IDF\n",
    "from sklearn.metrics.pairwise import cosine_similarity #Measures similarity between two text vectors\n",
    "\n",
    "nltk.download(\"punkt\")\n",
    "nltk.download(\"stopwords\")\n",
    "nltk.download(\"wordnet\")\n",
    "\n",
    "stop_words = set(stopwords.words(\"english\"))\n",
    "lemmatizer = WordNetLemmatizer()\n",
    "\n",
    "def clean_and_lemmatize(sentence):\n",
    "    words = word_tokenize(sentence.lower())\n",
    "    filtered = [lemmatizer.lemmatize(w) for w in words if w.isalpha() and w not in stop_words]\n",
    "    return \" \".join(filtered) # Joins the cleaned words back into a single string.\n",
    "\n",
    "def deduplicate_fuzzy(sentences, threshold=0.9):\n",
    "    if len(sentences) <= 1:\n",
    "        return sentences\n",
    "\n",
    "    vectorizer = TfidfVectorizer().fit_transform(sentences) #Vectorizes each sentence using TF-IDF.\n",
    "    sim_matrix = cosine_similarity(vectorizer) #Computes cosine similarity between all sentence pairs.\n",
    "\n",
    "    keep = []\n",
    "    seen = set()\n",
    "    for i, row in enumerate(sim_matrix):\n",
    "        if i in seen:\n",
    "            continue\n",
    "        keep.append(sentences[i])\n",
    "        for j in range(i + 1, len(row)):\n",
    "            if row[j] >= threshold:\n",
    "                seen.add(j)\n",
    "    return keep\n",
    "\n",
    "def preprocess_responsibility(responsibility_str, lst_of_unimportant_words=None):\n",
    "    #If the input is not a string (e.g., null), return an empty list.\n",
    "    if not isinstance(responsibility_str, str):\n",
    "        return []\n",
    "    #Initialize a list of garbage or \"ignore\" sentences (optional filter).\n",
    "    if lst_of_unimportant_words is None:\n",
    "        lst_of_unimportant_words = []\n",
    "\n",
    "    # Step 1: Break on pipe and segment sentences\n",
    "    #Splits the string on the pipe | delimiter.\n",
    "    #Tokenizes each part into sentences if it's longer than 10 characters.\n",
    "    parts = responsibility_str.split(\"|\")\n",
    "    raw_sentences = []\n",
    "    for part in parts:\n",
    "        part = part.strip()\n",
    "        if len(part) > 10:\n",
    "            raw_sentences.extend(sent_tokenize(part))\n",
    "\n",
    "    # Step 2: Clean and lemmatize\n",
    "    cleaned = []\n",
    "    for s in raw_sentences:\n",
    "        s_clean = s.strip() #strip removes any leading, and trailing whitespaces.\n",
    "        if len(s_clean) >= 20 and not s_clean.lower().startswith(\n",
    "            (\"about us\", \"who we are\", \"we offer\", \"our company\", \"location:\", \"job type:\", \"similar jobs\")\n",
    "        ) and s_clean not in lst_of_unimportant_words:\n",
    "            lemmatized = clean_and_lemmatize(s_clean)\n",
    "            if len(lemmatized.split()) >= 3: #Split is used to break a delimited string into substrings\n",
    "                cleaned.append(lemmatized)\n",
    "\n",
    "    # Step 3: Deduplicate using fuzzy cosine similarity\n",
    "    deduped = deduplicate_fuzzy(cleaned, threshold=0.8)\n",
    "\n",
    "    return deduped\n",
    "\n",
    "## preprocess_responsibility(\"Analyze large datasets | Write SQL queries | About Us: We love data!\", lst_of_gar=[\"We love data!\"])\n",
    " ## returns something like [\"analyze large dataset\", \"write sql query\"]\n",
    "\n",
    "df[\"cleaned_responsibility\"] = df[\"responsibilities\"].apply(lambda x: preprocess_responsibility(x, lst_of_unimportant_words))\n"
   ]
  },
  {
   "cell_type": "markdown",
   "id": "1b83e7aa",
   "metadata": {},
   "source": [
    "# Now preprocessing is done, we dive into EDA\n",
    "\n",
    "## If a skill like \"python\" appears multiple times in a single job post, it should count only once for that post."
   ]
  },
  {
   "cell_type": "code",
   "execution_count": 11,
   "id": "422513cc",
   "metadata": {},
   "outputs": [
    {
     "name": "stdout",
     "output_type": "stream",
     "text": [
      "Trending Skills/Tools:\n",
      "\n",
      "python: 362\n",
      "sql: 305\n",
      "aws: 229\n",
      "azure: 157\n",
      "gcp: 122\n",
      "spark: 112\n",
      "r: 109\n",
      "airflow: 84\n",
      "tableau: 84\n",
      "tensorflow: 83\n",
      "docker: 76\n",
      "snowflake: 74\n",
      "pytorch: 73\n",
      "databricks: 63\n",
      "presentation: 63\n",
      "excel: 59\n",
      "hadoop: 56\n",
      "git: 54\n",
      "mlflow: 36\n",
      "bigquery: 34\n"
     ]
    }
   ],
   "source": [
    "from collections import Counter\n",
    "# Step 2: Define known skills/tools\n",
    "skill_keywords = {\n",
    "    \"python\", \"sql\", \"r\", \"excel\", \"tableau\", \"power bi\", \"pandas\", \"numpy\", \"matplotlib\",\n",
    "    \"tensorflow\", \"keras\", \"pytorch\", \"scikit-learn\", \"docker\", \"git\", \"airflow\",\n",
    "    \"gcp\", \"aws\", \"azure\", \"linux\", \"bash\", \"hadoop\", \"spark\", \"lookml\", \"looker\",\n",
    "    \"jupyter\", \"notebook\", \"jira\", \"powerpoint\", \"presentation\", \"mlflow\", \"snowflake\",\n",
    "    \"bigquery\", \"databricks\", \"dbt\"\n",
    "}\n",
    "\n",
    "# Step 3: Extract and match words\n",
    "matched_skills = [] # will store all skill keywords that are found in df\n",
    "for resp_list in df[\"cleaned_responsibility\"]: # iterates through each row in DF; df[\"cleaned_responsibility\"] is a Series where each row is a list of cleaned sentences from a single job description\n",
    "    skills_in_post = set() \n",
    "    \n",
    "    for sentence in resp_list:\n",
    "        words = sentence.split()\n",
    "        for word in words:\n",
    "            if word in skill_keywords:\n",
    "                skills_in_post.add(word)\n",
    "                \n",
    "    matched_skills.extend(skills_in_post)\n",
    "\n",
    "# Step 4: Count matched skills\n",
    "skill_counts = Counter(matched_skills)\n",
    "\n",
    "# Step 5: Display trending skills/tools\n",
    "print(\"Trending Skills/Tools:\\n\")\n",
    "for skill, freq in skill_counts.most_common(20):\n",
    "    print(f\"{skill}: {freq}\")\n",
    "\n",
    "\n"
   ]
  },
  {
   "cell_type": "markdown",
   "id": "26de975e",
   "metadata": {},
   "source": [
    "# can build streamlit to visualize and UI above\n"
   ]
  },
  {
   "cell_type": "code",
   "execution_count": 12,
   "id": "a9bae2ee",
   "metadata": {},
   "outputs": [
    {
     "name": "stdout",
     "output_type": "stream",
     "text": [
      "Top skill-related bigrams:\n",
      "job salary: 1671\n",
      "salary range: 1295\n",
      "number job: 1114\n",
      "apply job: 1108\n",
      "machine learning: 919\n",
      "data science: 850\n",
      "privacy notice: 564\n",
      "similar job: 563\n",
      "job stats: 556\n",
      "stats job: 556\n",
      "salary number: 556\n",
      "range receive: 556\n",
      "receive similar: 556\n",
      "job email: 556\n",
      "email create: 556\n",
      "create alert: 556\n",
      "alert creating: 556\n",
      "creating alert: 556\n",
      "alert agree: 556\n",
      "agree c: 556\n"
     ]
    }
   ],
   "source": [
    "from nltk.util import ngrams\n",
    "all_bigrams = []\n",
    "\n",
    "for resp_list in df[\"cleaned_responsibility\"]:\n",
    "    for sentence in resp_list:\n",
    "        tokens = sentence.split()\n",
    "        bigrams = list(ngrams(tokens, 2))  # 2-word combinations\n",
    "        all_bigrams.extend([\" \".join(bg) for bg in bigrams])\n",
    "\n",
    "\n",
    "bigram_counts = Counter(all_bigrams)\n",
    "\n",
    "# Filter out bigrams that occur less than 5 times (adjust as needed)\n",
    "filtered_bigrams = {k: v for k, v in bigram_counts.items() if v >= 5}\n",
    "\n",
    "# Show top bigrams\n",
    "print(\"Top skill-related bigrams:\")\n",
    "for phrase, freq in Counter(filtered_bigrams).most_common(20):\n",
    "    print(f\"{phrase}: {freq}\")"
   ]
  },
  {
   "cell_type": "markdown",
   "id": "a2d15255",
   "metadata": {},
   "source": [
    "## To filter and display the most common bigrams (2-word phrases) that contain any word from a list of relevant keywords"
   ]
  },
  {
   "cell_type": "code",
   "execution_count": 13,
   "id": "0269d522",
   "metadata": {},
   "outputs": [
    {
     "name": "stdout",
     "output_type": "stream",
     "text": [
      "machine learning: 919\n",
      "data science: 850\n",
      "data scientist: 554\n",
      "data pipeline: 386\n",
      "experience data: 330\n",
      "data engineering: 320\n",
      "data engineer: 235\n",
      "data analytics: 225\n",
      "data platform: 206\n",
      "data product: 189\n",
      "engineering team: 177\n",
      "data analysis: 176\n",
      "big data: 167\n",
      "data management: 158\n",
      "data governance: 153\n",
      "software engineering: 150\n",
      "learning model: 141\n",
      "data quality: 136\n",
      "cloud platform: 134\n",
      "data visualization: 124\n"
     ]
    }
   ],
   "source": [
    "relevant_keywords = {\"data\", \"learning\", \"cloud\", \"project\", \"management\", \"model\", \"analysis\", \"engineering\"}\n",
    "\n",
    "skill_bigrams = {k: v for k, v in filtered_bigrams.items() if any(word in k for word in relevant_keywords)}\n",
    "\n",
    "for phrase, freq in Counter(skill_bigrams).most_common(20):\n",
    "    print(f\"{phrase}: {freq}\")\n"
   ]
  },
  {
   "cell_type": "code",
   "execution_count": 28,
   "id": "503c8e66",
   "metadata": {},
   "outputs": [
    {
     "name": "stdout",
     "output_type": "stream",
     "text": [
      "/Users/school/opt/miniconda3/lib/python3.8/site-packages/matplotlib/mpl-data/fonts/ttf/DejaVuSans.ttf\n"
     ]
    },
    {
     "data": {
      "text/plain": [
       "<PIL.ImageFont.FreeTypeFont at 0x7ff62dd59610>"
      ]
     },
     "execution_count": 28,
     "metadata": {},
     "output_type": "execute_result"
    }
   ],
   "source": [
    "import matplotlib\n",
    "import os\n",
    "\n",
    "# Locate the built-in DejaVuSans.ttf that is compatible\n",
    "font_path = os.path.join(matplotlib.get_data_path(), \"fonts/ttf/DejaVuSans.ttf\")\n",
    "print(font_path)\n",
    "\n",
    "from PIL import ImageFont\n",
    "ImageFont.truetype(font_path, 20)  # ✅ Should not raise an error\n"
   ]
  },
  {
   "cell_type": "code",
   "execution_count": 30,
   "id": "5d00e077",
   "metadata": {},
   "outputs": [
    {
     "ename": "ValueError",
     "evalue": "Only supported for TrueType fonts",
     "output_type": "error",
     "traceback": [
      "\u001b[0;31m---------------------------------------------------------------------------\u001b[0m",
      "\u001b[0;31mValueError\u001b[0m                                Traceback (most recent call last)",
      "\u001b[0;32m<ipython-input-30-33128da240c1>\u001b[0m in \u001b[0;36m<cell line: 13>\u001b[0;34m()\u001b[0m\n\u001b[1;32m     11\u001b[0m \u001b[0mtext_blob\u001b[0m \u001b[0;34m=\u001b[0m \u001b[0;34m\" \"\u001b[0m\u001b[0;34m.\u001b[0m\u001b[0mjoin\u001b[0m\u001b[0;34m(\u001b[0m\u001b[0;34m[\u001b[0m\u001b[0;34m\" \"\u001b[0m\u001b[0;34m.\u001b[0m\u001b[0mjoin\u001b[0m\u001b[0;34m(\u001b[0m\u001b[0mx\u001b[0m\u001b[0;34m)\u001b[0m \u001b[0;32mfor\u001b[0m \u001b[0mx\u001b[0m \u001b[0;32min\u001b[0m \u001b[0mdf\u001b[0m\u001b[0;34m[\u001b[0m\u001b[0;34m\"cleaned_responsibility\"\u001b[0m\u001b[0;34m]\u001b[0m\u001b[0;34m]\u001b[0m\u001b[0;34m)\u001b[0m\u001b[0;34m\u001b[0m\u001b[0;34m\u001b[0m\u001b[0m\n\u001b[1;32m     12\u001b[0m \u001b[0;34m\u001b[0m\u001b[0m\n\u001b[0;32m---> 13\u001b[0;31m wordcloud = WordCloud(\n\u001b[0m\u001b[1;32m     14\u001b[0m     \u001b[0mwidth\u001b[0m\u001b[0;34m=\u001b[0m\u001b[0;36m800\u001b[0m\u001b[0;34m,\u001b[0m\u001b[0;34m\u001b[0m\u001b[0;34m\u001b[0m\u001b[0m\n\u001b[1;32m     15\u001b[0m     \u001b[0mheight\u001b[0m\u001b[0;34m=\u001b[0m\u001b[0;36m400\u001b[0m\u001b[0;34m,\u001b[0m\u001b[0;34m\u001b[0m\u001b[0;34m\u001b[0m\u001b[0m\n",
      "\u001b[0;32m~/opt/miniconda3/lib/python3.8/site-packages/wordcloud/wordcloud.py\u001b[0m in \u001b[0;36mgenerate\u001b[0;34m(self, text)\u001b[0m\n\u001b[1;32m    640\u001b[0m         \u001b[0mself\u001b[0m\u001b[0;34m\u001b[0m\u001b[0;34m\u001b[0m\u001b[0m\n\u001b[1;32m    641\u001b[0m         \"\"\"\n\u001b[0;32m--> 642\u001b[0;31m         \u001b[0;32mreturn\u001b[0m \u001b[0mself\u001b[0m\u001b[0;34m.\u001b[0m\u001b[0mgenerate_from_text\u001b[0m\u001b[0;34m(\u001b[0m\u001b[0mtext\u001b[0m\u001b[0;34m)\u001b[0m\u001b[0;34m\u001b[0m\u001b[0;34m\u001b[0m\u001b[0m\n\u001b[0m\u001b[1;32m    643\u001b[0m \u001b[0;34m\u001b[0m\u001b[0m\n\u001b[1;32m    644\u001b[0m     \u001b[0;32mdef\u001b[0m \u001b[0m_check_generated\u001b[0m\u001b[0;34m(\u001b[0m\u001b[0mself\u001b[0m\u001b[0;34m)\u001b[0m\u001b[0;34m:\u001b[0m\u001b[0;34m\u001b[0m\u001b[0;34m\u001b[0m\u001b[0m\n",
      "\u001b[0;32m~/opt/miniconda3/lib/python3.8/site-packages/wordcloud/wordcloud.py\u001b[0m in \u001b[0;36mgenerate_from_text\u001b[0;34m(self, text)\u001b[0m\n\u001b[1;32m    622\u001b[0m         \"\"\"\n\u001b[1;32m    623\u001b[0m         \u001b[0mwords\u001b[0m \u001b[0;34m=\u001b[0m \u001b[0mself\u001b[0m\u001b[0;34m.\u001b[0m\u001b[0mprocess_text\u001b[0m\u001b[0;34m(\u001b[0m\u001b[0mtext\u001b[0m\u001b[0;34m)\u001b[0m\u001b[0;34m\u001b[0m\u001b[0;34m\u001b[0m\u001b[0m\n\u001b[0;32m--> 624\u001b[0;31m         \u001b[0mself\u001b[0m\u001b[0;34m.\u001b[0m\u001b[0mgenerate_from_frequencies\u001b[0m\u001b[0;34m(\u001b[0m\u001b[0mwords\u001b[0m\u001b[0;34m)\u001b[0m\u001b[0;34m\u001b[0m\u001b[0;34m\u001b[0m\u001b[0m\n\u001b[0m\u001b[1;32m    625\u001b[0m         \u001b[0;32mreturn\u001b[0m \u001b[0mself\u001b[0m\u001b[0;34m\u001b[0m\u001b[0;34m\u001b[0m\u001b[0m\n\u001b[1;32m    626\u001b[0m \u001b[0;34m\u001b[0m\u001b[0m\n",
      "\u001b[0;32m~/opt/miniconda3/lib/python3.8/site-packages/wordcloud/wordcloud.py\u001b[0m in \u001b[0;36mgenerate_from_frequencies\u001b[0;34m(self, frequencies, max_font_size)\u001b[0m\n\u001b[1;32m    451\u001b[0m                 \u001b[0mfont_size\u001b[0m \u001b[0;34m=\u001b[0m \u001b[0mself\u001b[0m\u001b[0;34m.\u001b[0m\u001b[0mheight\u001b[0m\u001b[0;34m\u001b[0m\u001b[0;34m\u001b[0m\u001b[0m\n\u001b[1;32m    452\u001b[0m             \u001b[0;32melse\u001b[0m\u001b[0;34m:\u001b[0m\u001b[0;34m\u001b[0m\u001b[0;34m\u001b[0m\u001b[0m\n\u001b[0;32m--> 453\u001b[0;31m                 self.generate_from_frequencies(dict(frequencies[:2]),\n\u001b[0m\u001b[1;32m    454\u001b[0m                                                max_font_size=self.height)\n\u001b[1;32m    455\u001b[0m                 \u001b[0;31m# find font sizes\u001b[0m\u001b[0;34m\u001b[0m\u001b[0;34m\u001b[0m\u001b[0;34m\u001b[0m\u001b[0m\n",
      "\u001b[0;32m~/opt/miniconda3/lib/python3.8/site-packages/wordcloud/wordcloud.py\u001b[0m in \u001b[0;36mgenerate_from_frequencies\u001b[0;34m(self, frequencies, max_font_size)\u001b[0m\n\u001b[1;32m    509\u001b[0m                     font, orientation=orientation)\n\u001b[1;32m    510\u001b[0m                 \u001b[0;31m# get size of resulting text\u001b[0m\u001b[0;34m\u001b[0m\u001b[0;34m\u001b[0m\u001b[0;34m\u001b[0m\u001b[0m\n\u001b[0;32m--> 511\u001b[0;31m                 \u001b[0mbox_size\u001b[0m \u001b[0;34m=\u001b[0m \u001b[0mdraw\u001b[0m\u001b[0;34m.\u001b[0m\u001b[0mtextbbox\u001b[0m\u001b[0;34m(\u001b[0m\u001b[0;34m(\u001b[0m\u001b[0;36m0\u001b[0m\u001b[0;34m,\u001b[0m \u001b[0;36m0\u001b[0m\u001b[0;34m)\u001b[0m\u001b[0;34m,\u001b[0m \u001b[0mword\u001b[0m\u001b[0;34m,\u001b[0m \u001b[0mfont\u001b[0m\u001b[0;34m=\u001b[0m\u001b[0mtransposed_font\u001b[0m\u001b[0;34m,\u001b[0m \u001b[0manchor\u001b[0m\u001b[0;34m=\u001b[0m\u001b[0;34m\"lt\"\u001b[0m\u001b[0;34m)\u001b[0m\u001b[0;34m\u001b[0m\u001b[0;34m\u001b[0m\u001b[0m\n\u001b[0m\u001b[1;32m    512\u001b[0m                 \u001b[0;31m# find possible places using integral image:\u001b[0m\u001b[0;34m\u001b[0m\u001b[0;34m\u001b[0m\u001b[0;34m\u001b[0m\u001b[0m\n\u001b[1;32m    513\u001b[0m                 result = occupancy.sample_position(box_size[3] + self.margin,\n",
      "\u001b[0;32m~/opt/miniconda3/lib/python3.8/site-packages/PIL/ImageDraw.py\u001b[0m in \u001b[0;36mtextbbox\u001b[0;34m(self, xy, text, font, anchor, spacing, align, direction, features, language, stroke_width, embedded_color)\u001b[0m\n\u001b[1;32m    669\u001b[0m             \u001b[0mfont\u001b[0m \u001b[0;34m=\u001b[0m \u001b[0mself\u001b[0m\u001b[0;34m.\u001b[0m\u001b[0mgetfont\u001b[0m\u001b[0;34m(\u001b[0m\u001b[0;34m)\u001b[0m\u001b[0;34m\u001b[0m\u001b[0;34m\u001b[0m\u001b[0m\n\u001b[1;32m    670\u001b[0m         \u001b[0;32mif\u001b[0m \u001b[0;32mnot\u001b[0m \u001b[0misinstance\u001b[0m\u001b[0;34m(\u001b[0m\u001b[0mfont\u001b[0m\u001b[0;34m,\u001b[0m \u001b[0mImageFont\u001b[0m\u001b[0;34m.\u001b[0m\u001b[0mFreeTypeFont\u001b[0m\u001b[0;34m)\u001b[0m\u001b[0;34m:\u001b[0m\u001b[0;34m\u001b[0m\u001b[0;34m\u001b[0m\u001b[0m\n\u001b[0;32m--> 671\u001b[0;31m             \u001b[0;32mraise\u001b[0m \u001b[0mValueError\u001b[0m\u001b[0;34m(\u001b[0m\u001b[0;34m\"Only supported for TrueType fonts\"\u001b[0m\u001b[0;34m)\u001b[0m\u001b[0;34m\u001b[0m\u001b[0;34m\u001b[0m\u001b[0m\n\u001b[0m\u001b[1;32m    672\u001b[0m         \u001b[0mmode\u001b[0m \u001b[0;34m=\u001b[0m \u001b[0;34m\"RGBA\"\u001b[0m \u001b[0;32mif\u001b[0m \u001b[0membedded_color\u001b[0m \u001b[0;32melse\u001b[0m \u001b[0mself\u001b[0m\u001b[0;34m.\u001b[0m\u001b[0mfontmode\u001b[0m\u001b[0;34m\u001b[0m\u001b[0;34m\u001b[0m\u001b[0m\n\u001b[1;32m    673\u001b[0m         bbox = font.getbbox(\n",
      "\u001b[0;31mValueError\u001b[0m: Only supported for TrueType fonts"
     ]
    }
   ],
   "source": [
    "import matplotlib\n",
    "from wordcloud import WordCloud\n",
    "import matplotlib.pyplot as plt\n",
    "import os\n",
    "\n",
    "font_path = os.path.join(matplotlib.get_data_path(), \"fonts/ttf/DejaVuSans.ttf\")\n",
    "\n",
    "from PIL import ImageFont\n",
    "ImageFont.truetype(font_path, 20)  # Confirm font is usable\n",
    "\n",
    "text_blob = \" \".join([\" \".join(x) for x in df[\"cleaned_responsibility\"]])\n",
    "\n",
    "wordcloud = WordCloud(\n",
    "    width=800,\n",
    "    height=400,\n",
    "    background_color='white',\n",
    "    font_path=font_path\n",
    ").generate(text_blob)\n",
    "\n",
    "plt.figure(figsize=(10, 5))\n",
    "plt.imshow(wordcloud, interpolation='bilinear')\n",
    "plt.axis(\"off\")\n",
    "plt.show()\n"
   ]
  },
  {
   "cell_type": "code",
   "execution_count": 94,
   "id": "0f807bbf",
   "metadata": {},
   "outputs": [
    {
     "data": {
      "text/plain": [
       "0                           Intern, Data Science (Fall 2025)\n",
       "1                                             Data Scientist\n",
       "3                       Associate Director, Data Science FSP\n",
       "5                                    Senior Backend engineer\n",
       "6                                              Data Engineer\n",
       "11                                     Senior MLOps Engineer\n",
       "19                      Customer Experience Insights Analyst\n",
       "21               Full Stack .NET Software Engineer/Developer\n",
       "23                                 Staff Full Stack Engineer\n",
       "24                                       Azure Data Engineer\n",
       "29                 Lead Data Scientist - Feature Engineering\n",
       "30    Lead Data Scientist - Articial Intelligence Specialist\n",
       "31                                             Data Engineer\n",
       "34                                   ETL DataStage Developer\n",
       "37                            Software Engineer, Marketplace\n",
       "38                                   Senior Backend Engineer\n",
       "39               Senior Backend Engineer - Stream processing\n",
       "40                                  Senior Software Engineer\n",
       "41                               Sr. Analyst, Fraud Strategy\n",
       "42                                  Senior Software Engineer\n",
       "Name: title, dtype: object"
      ]
     },
     "execution_count": 94,
     "metadata": {},
     "output_type": "execute_result"
    }
   ],
   "source": [
    "df[0:20]['title']"
   ]
  },
  {
   "cell_type": "code",
   "execution_count": null,
   "id": "a1eac961",
   "metadata": {},
   "outputs": [],
   "source": [
    "# filter for stop words\n",
    "\n",
    "# Use simple frequency counts or TF-IDF to find the most frequent terms and phrases (e.g., “Python”, “machine learning”, “communication skills”).\n",
    "\n",
    "Lemmatization or stemming to group word forms.\n",
    "\n",
    "# Filter stopwords like “the”, “and”, “with”.\n",
    "\n",
    "# Visualize common words for quick thematic understanding.\n",
    "\n",
    "\n",
    "Job title and location analysis\n",
    "Group by job title or location to see how requirements vary by position or city."
   ]
  },
  {
   "cell_type": "code",
   "execution_count": null,
   "id": "9ab73978",
   "metadata": {},
   "outputs": [],
   "source": [
    "# bag of words => change to numerical vector\n",
    "# word vectors\n",
    "# skip gram\n",
    "\n",
    "# regex\n",
    "# steming and lementization\n",
    "# spell correction\n",
    "# part of speech tagging\n",
    "# \n",
    "\n",
    "Job Market Insights Dashboard\n",
    "Problem it solves: Applicants don't know which skills are trending.\n",
    "\n",
    "What you build:\n",
    "\n",
    "Scrape thousands of jobs over time.\n",
    "\n",
    "Use NLP to extract:\n",
    "\n",
    "Most in-demand skills\n",
    "\n",
    "Role-specific trends (e.g., ML roles vs DS roles)\n",
    "\n",
    "Salary estimates (if available)\n",
    "\n",
    "Visualize with a dashboard (Plotly/Dash or Streamlit).\n",
    "\n",
    "Skills demonstrated: NLP, web scraping, data engineering, interactive dashboards, trend analysis.\n",
    "\n",
    "Cover Letter Generator\n",
    "\n",
    "\n",
    "Applicants don’t know how well they match a job.\n",
    "Outputs a match score (e.g., 0-100), based on:\n",
    "\n",
    "Skills match\n",
    "\n",
    "Experience overlap\n",
    "\n",
    "Role titles\n",
    "\n",
    "Could be done with semantic similarity using sentence transformers or fine-tuned BERT.\n",
    "\n",
    "Bonus: Explain the score (\"you’re missing 3 of 5 core skills\") with interpretability."
   ]
  }
 ],
 "metadata": {
  "kernelspec": {
   "display_name": "base",
   "language": "python",
   "name": "python3"
  },
  "language_info": {
   "codemirror_mode": {
    "name": "ipython",
    "version": 3
   },
   "file_extension": ".py",
   "mimetype": "text/x-python",
   "name": "python",
   "nbconvert_exporter": "python",
   "pygments_lexer": "ipython3",
   "version": "3.8.3"
  }
 },
 "nbformat": 4,
 "nbformat_minor": 5
}
